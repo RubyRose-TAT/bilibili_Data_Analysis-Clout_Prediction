{
 "cells": [
  {
   "cell_type": "code",
   "execution_count": 1,
   "id": "0c5980cf",
   "metadata": {},
   "outputs": [],
   "source": [
    "import pickle\n",
    "import pandas as pd\n",
    "import numpy as np\n",
    "\n",
    "from sklearn import metrics\n",
    "from sklearn.model_selection import train_test_split\n",
    "from sklearn.ensemble import RandomForestRegressor\n",
    "from sklearn.model_selection import RandomizedSearchCV\n",
    "from sklearn.model_selection import GridSearchCV\n",
    "\n",
    "import matplotlib.pyplot as plt\n",
    "%matplotlib inline\n",
    "\n",
    "import warnings\n",
    "warnings.filterwarnings('ignore')\n",
    "\n",
    "plt.style.use({'figure.figsize':(25,20)})\n",
    "\n",
    "plt.rcParams['font.sans-serif']=['SimHei']\n",
    "plt.rcParams['axes.unicode_minus']=False"
   ]
  },
  {
   "cell_type": "code",
   "execution_count": 2,
   "id": "ccfd1e22",
   "metadata": {},
   "outputs": [],
   "source": [
    "# 导入数据\n",
    "df = pd.read_csv('data/bilibili_rank100_data.csv')"
   ]
  },
  {
   "cell_type": "code",
   "execution_count": 3,
   "id": "0d6c2c50",
   "metadata": {},
   "outputs": [],
   "source": [
    "# 数据预处理\n",
    "df = df.drop_duplicates(subset=['title'],keep='last',inplace=False)\n",
    "df = df.drop(df[df['time']>1000].index)\n",
    "df[df.isnull().values==True]\n",
    "df=df.reset_index(drop=True, inplace=False)\n",
    "def LabelEncoding(df):\n",
    "    x, dfc = 'partition', df\n",
    "    key = dfc[x].unique()\n",
    "    value = [i for i in range(len(key))]\n",
    "    Dict = dict(zip(key, value))\n",
    "    for i in range(len(key)):\n",
    "        for j in range(dfc.shape[0]):\n",
    "            if key[i] == dfc[x][j]:\n",
    "                dfc[x][j] = Dict[key[i]]\n",
    "    dfc[x] = dfc[x].astype(np.int64)\n",
    "    return dfc\n",
    "\n",
    "df = LabelEncoding(df)"
   ]
  },
  {
   "cell_type": "code",
   "execution_count": 4,
   "id": "f96ad97c",
   "metadata": {},
   "outputs": [],
   "source": [
    "df = df.drop([\"author\",\"title\",\"tag\"],axis = 1)"
   ]
  },
  {
   "cell_type": "code",
   "execution_count": 5,
   "id": "55c050be",
   "metadata": {},
   "outputs": [],
   "source": [
    "X = df.drop([\"views\"],axis = 1)\n",
    "y = df[\"views\"]\n",
    "X_train,X_test,y_train,y_test=train_test_split(X,y,random_state=6)"
   ]
  },
  {
   "cell_type": "markdown",
   "id": "4d7f8674",
   "metadata": {},
   "source": [
    "RandomizedSearchCV\n",
    "\n",
    "随机搜索交叉验证，在给定参数范围内随机选择参数值进行指定次数的参数组合，找到效果最好的模型\n",
    "\n",
    "交叉验证可以充分评估回归模型的准确性"
   ]
  },
  {
   "cell_type": "code",
   "execution_count": 6,
   "id": "d8918efb",
   "metadata": {},
   "outputs": [
    {
     "name": "stdout",
     "output_type": "stream",
     "text": [
      "Fitting 3 folds for each of 100 candidates, totalling 300 fits\n"
     ]
    },
    {
     "data": {
      "text/plain": [
       "RandomizedSearchCV(cv=3, estimator=RandomForestRegressor(), n_iter=100,\n",
       "                   n_jobs=-1,\n",
       "                   param_distributions={'bootstrap': [True, False],\n",
       "                                        'max_depth': [10, 20, 30, 40, 50, 60,\n",
       "                                                      70, 80, 90, 100, None],\n",
       "                                        'max_features': ['auto', 'sqrt'],\n",
       "                                        'min_samples_leaf': [1, 2, 4],\n",
       "                                        'min_samples_split': [2, 5, 10],\n",
       "                                        'n_estimators': [200, 400, 600, 800,\n",
       "                                                         1000, 1200, 1400, 1600,\n",
       "                                                         1800, 2000]},\n",
       "                   random_state=42, scoring='neg_mean_absolute_error',\n",
       "                   verbose=2)"
      ]
     },
     "execution_count": 6,
     "metadata": {},
     "output_type": "execute_result"
    }
   ],
   "source": [
    "# 决策树的个数\n",
    "n_estimators = [int(x) for x in np.linspace(start = 200, stop = 2000, num = 10)]\n",
    "# 最大特征数\n",
    "max_features = ['auto', 'sqrt']\n",
    "# 最大树深\n",
    "max_depth = [int(x) for x in np.linspace(10, 100, num = 10)]\n",
    "max_depth.append(None)\n",
    "# 限制子树继续划分的条件\n",
    "min_samples_split = [2, 5, 10]\n",
    "# 叶子节点的最小样本数目\n",
    "min_samples_leaf = [1, 2, 4]\n",
    "# 构建树时是否使用bootstrap采样\n",
    "bootstrap = [True, False]\n",
    " \n",
    "# 创建随机网格\n",
    "random_grid = {'n_estimators': n_estimators,\n",
    "               'max_features': max_features,\n",
    "               'max_depth': max_depth,\n",
    "               'min_samples_split': min_samples_split,\n",
    "               'min_samples_leaf': min_samples_leaf,\n",
    "               'bootstrap': bootstrap}\n",
    " \n",
    " \n",
    "# 使用随机网格来搜索最佳超参数\n",
    "# 实例化随机森林回归器\n",
    "rf = RandomForestRegressor()\n",
    "# 随机搜索参数，使用3折交叉验证。\n",
    "# 在100种不同的组合中进行搜索，并使用所有可用的内核\n",
    "rf_random = RandomizedSearchCV(estimator=rf, param_distributions=random_grid,\n",
    "                              n_iter = 100, scoring='neg_mean_absolute_error', \n",
    "                              cv = 3, verbose=2, random_state=42, n_jobs=-1)\n",
    " \n",
    "rf_random.fit(X_train, y_train)"
   ]
  },
  {
   "cell_type": "code",
   "execution_count": 7,
   "id": "5ac77b6f",
   "metadata": {},
   "outputs": [
    {
     "data": {
      "text/plain": [
       "{'n_estimators': 1200,\n",
       " 'min_samples_split': 2,\n",
       " 'min_samples_leaf': 2,\n",
       " 'max_features': 'auto',\n",
       " 'max_depth': 50,\n",
       " 'bootstrap': True}"
      ]
     },
     "execution_count": 7,
     "metadata": {},
     "output_type": "execute_result"
    }
   ],
   "source": [
    "rf_random.best_params_"
   ]
  },
  {
   "cell_type": "markdown",
   "id": "3611cfce",
   "metadata": {},
   "source": [
    "GridSearchCV\n",
    "\n",
    "网格搜索交叉验证，网格搜索可以让模型参数按照我们给定的列表遍历，找到效果最好的模型\n",
    "\n",
    "交叉验证可以充分评估回归模型的准确性"
   ]
  },
  {
   "cell_type": "code",
   "execution_count": 8,
   "id": "618167fc",
   "metadata": {},
   "outputs": [
    {
     "name": "stdout",
     "output_type": "stream",
     "text": [
      "Fitting 3 folds for each of 144 candidates, totalling 432 fits\n"
     ]
    },
    {
     "data": {
      "text/plain": [
       "GridSearchCV(cv=3, estimator=RandomForestRegressor(), n_jobs=-1,\n",
       "             param_grid={'bootstrap': [True], 'max_depth': [45, 50, 55],\n",
       "                         'max_features': ['auto'],\n",
       "                         'min_samples_leaf': [1, 2, 3, 4],\n",
       "                         'min_samples_split': [2, 3, 4],\n",
       "                         'n_estimators': [50, 100, 150, 200]},\n",
       "             scoring='neg_mean_absolute_error', verbose=2)"
      ]
     },
     "execution_count": 8,
     "metadata": {},
     "output_type": "execute_result"
    }
   ],
   "source": [
    "#构造参数字典，让这三个参数按照列表给定的顺序排列组合遍历一遍\n",
    "param_grid = {\n",
    "    'bootstrap': [True],\n",
    "    'max_features': ['auto'],\n",
    "    'n_estimators':[50,100,150,200],\n",
    "    'max_depth':[45, 50, 55],\n",
    "    'min_samples_leaf': [1, 2, 3, 4],\n",
    "    'min_samples_split': [2, 3, 4],\n",
    "}\n",
    "\n",
    "#实例化随机森林回归器\n",
    "rf = RandomForestRegressor()\n",
    "\n",
    "#以随机森林回归器为基础构造网络搜索回归器\n",
    "grid_search = GridSearchCV(estimator = rf, param_grid = param_grid, \n",
    "                           scoring = 'neg_mean_absolute_error', cv = 3, \n",
    "                           n_jobs = -1, verbose = 2)\n",
    "\n",
    "grid_search.fit(X_train,y_train)"
   ]
  },
  {
   "cell_type": "markdown",
   "id": "b880345e",
   "metadata": {},
   "source": [
    "## 选取最优参数对应的模型"
   ]
  },
  {
   "cell_type": "code",
   "execution_count": 9,
   "id": "5019a613",
   "metadata": {},
   "outputs": [
    {
     "data": {
      "text/plain": [
       "{'bootstrap': True,\n",
       " 'max_depth': 55,\n",
       " 'max_features': 'auto',\n",
       " 'min_samples_leaf': 2,\n",
       " 'min_samples_split': 3,\n",
       " 'n_estimators': 200}"
      ]
     },
     "execution_count": 9,
     "metadata": {},
     "output_type": "execute_result"
    }
   ],
   "source": [
    "grid_search.best_params_"
   ]
  },
  {
   "cell_type": "code",
   "execution_count": 10,
   "id": "a7f0bad4",
   "metadata": {},
   "outputs": [
    {
     "data": {
      "text/plain": [
       "RandomForestRegressor(max_depth=55, min_samples_leaf=2, min_samples_split=3,\n",
       "                      n_estimators=200)"
      ]
     },
     "execution_count": 10,
     "metadata": {},
     "output_type": "execute_result"
    }
   ],
   "source": [
    "rf_reg = grid_search.best_estimator_\n",
    "rf_reg"
   ]
  },
  {
   "cell_type": "markdown",
   "id": "e479172d",
   "metadata": {},
   "source": [
    "## 特征重要度分析"
   ]
  },
  {
   "cell_type": "code",
   "execution_count": 11,
   "id": "c63f450c",
   "metadata": {
    "scrolled": true
   },
   "outputs": [
    {
     "data": {
      "text/plain": [
       "array([3.97779825e-04, 1.12781690e-03, 4.33762452e-01, 1.20532255e-01,\n",
       "       1.64957480e-01, 9.02923786e-02, 1.68988177e-02, 1.12616576e-01,\n",
       "       5.12434125e-03, 5.42901031e-02])"
      ]
     },
     "execution_count": 11,
     "metadata": {},
     "output_type": "execute_result"
    }
   ],
   "source": [
    "rf_reg.feature_importances_"
   ]
  },
  {
   "cell_type": "code",
   "execution_count": 12,
   "id": "20ba1e4a",
   "metadata": {},
   "outputs": [
    {
     "data": {
      "text/plain": [
       "Index(['partition', 'funs', 'like', 'coins', 'collect', 'share', 'danmu',\n",
       "       'reply', 'time', 'like_rate'],\n",
       "      dtype='object')"
      ]
     },
     "execution_count": 12,
     "metadata": {},
     "output_type": "execute_result"
    }
   ],
   "source": [
    "X.columns"
   ]
  },
  {
   "cell_type": "code",
   "execution_count": 13,
   "id": "221c7aa6",
   "metadata": {},
   "outputs": [
    {
     "name": "stdout",
     "output_type": "stream",
     "text": [
      "特征排序：\n",
      "feature like (0.433762)\n",
      "feature collect (0.164957)\n",
      "feature coins (0.120532)\n",
      "feature reply (0.112617)\n",
      "feature share (0.090292)\n",
      "feature like_rate (0.054290)\n",
      "feature danmu (0.016899)\n",
      "feature time (0.005124)\n",
      "feature funs (0.001128)\n",
      "feature partition (0.000398)\n"
     ]
    }
   ],
   "source": [
    "print('特征排序：')\n",
    "feature_names = X.columns\n",
    "feature_importances = rf_reg.feature_importances_\n",
    "indices = np.argsort(feature_importances)[::-1]\n",
    "\n",
    "for index in indices:\n",
    "    print('feature %s (%f)' %(feature_names[index],feature_importances[index]))"
   ]
  },
  {
   "cell_type": "code",
   "execution_count": 14,
   "id": "b39f60aa",
   "metadata": {},
   "outputs": [
    {
     "data": {
      "image/png": "[encoded data removed]",
      "text/plain": [
       "<Figure size 1152x576 with 1 Axes>"
      ]
     },
     "metadata": {
      "needs_background": "light"
     },
     "output_type": "display_data"
    }
   ],
   "source": [
    "plt.figure(figsize=(16,8))\n",
    "plt.title('随机森林模型中不同特征的重要程度')\n",
    "plt.bar(range(len(feature_importances)),feature_importances[indices],color='b')\n",
    "plt.xticks(range(len(feature_importances)),np.array(feature_names)[indices],color='b')\n",
    "plt.show()"
   ]
  },
  {
   "cell_type": "markdown",
   "id": "377378de",
   "metadata": {},
   "source": [
    "## 对训练集和测试集进行预测"
   ]
  },
  {
   "cell_type": "code",
   "execution_count": 15,
   "id": "e33c36cb",
   "metadata": {},
   "outputs": [],
   "source": [
    "train_preds = pd.DataFrame(rf_reg.predict(X_train))\n",
    "test_preds = pd.DataFrame(rf_reg.predict(X_test))\n",
    "train_preds.columns = ['views']\n",
    "test_preds.columns = ['views']"
   ]
  },
  {
   "cell_type": "markdown",
   "id": "025bb7c3",
   "metadata": {},
   "source": [
    "## 计算MSE均方误差和RMSE均方根误差"
   ]
  },
  {
   "cell_type": "code",
   "execution_count": 16,
   "id": "2518c69b",
   "metadata": {},
   "outputs": [
    {
     "name": "stdout",
     "output_type": "stream",
     "text": [
      "\n",
      "Model Report\n",
      "MSE Train : 691491119157.218262\n",
      "MSE Test: 1431590580717.674561\n",
      "RMSE Train: 831559.450164\n",
      "RMSE Test: 1196490.944687\n"
     ]
    }
   ],
   "source": [
    "print(\"\\nModel Report\")\n",
    "print(\"MSE Train : %f\" % metrics.mean_squared_error(y_train, train_preds))\n",
    "print(\"MSE Test: %f\" % metrics.mean_squared_error(y_test, test_preds))\n",
    "print(\"RMSE Train: %f\" % metrics.mean_squared_error(y_train, train_preds)**0.5)\n",
    "print(\"RMSE Test: %f\" % metrics.mean_squared_error(y_test, test_preds)**0.5)"
   ]
  },
  {
   "cell_type": "markdown",
   "id": "77a91639",
   "metadata": {},
   "source": [
    "## 将模型打包成pkl文件"
   ]
  },
  {
   "cell_type": "code",
   "execution_count": 17,
   "id": "74625cd4",
   "metadata": {},
   "outputs": [],
   "source": [
    "pickle.dump(rf_reg, open(\"rfFinal.pkl\", \"wb\"))"
   ]
  },
  {
   "cell_type": "code",
   "execution_count": 18,
   "id": "a0f5d1f5",
   "metadata": {},
   "outputs": [],
   "source": [
    "# train_preds.to_csv('RF_Train_Preds.csv', sep=',')\n",
    "# test_preds.to_csv('RF_Test_Preds.csv', sep=',')"
   ]
  }
 ],
 "metadata": {
  "hide_input": false,
  "kernelspec": {
   "display_name": "Python 3",
   "language": "python",
   "name": "python3"
  },
  "language_info": {
   "codemirror_mode": {
    "name": "ipython",
    "version": 3
   },
   "file_extension": ".py",
   "mimetype": "text/x-python",
   "name": "python",
   "nbconvert_exporter": "python",
   "pygments_lexer": "ipython3",
   "version": "3.8.8"
  },
  "toc": {
   "base_numbering": 1,
   "nav_menu": {},
   "number_sections": false,
   "sideBar": true,
   "skip_h1_title": false,
   "title_cell": "Table of Contents",
   "title_sidebar": "Contents",
   "toc_cell": false,
   "toc_position": {},
   "toc_section_display": true,
   "toc_window_display": false
  },
  "varInspector": {
   "cols": {
    "lenName": 16,
    "lenType": 16,
    "lenVar": 40
   },
   "kernels_config": {
    "python": {
     "delete_cmd_postfix": "",
     "delete_cmd_prefix": "del ",
     "library": "var_list.py",
     "varRefreshCmd": "print(var_dic_list())"
    },
    "r": {
     "delete_cmd_postfix": ") ",
     "delete_cmd_prefix": "rm(",
     "library": "var_list.r",
     "varRefreshCmd": "cat(var_dic_list()) "
    }
   },
   "types_to_exclude": [
    "module",
    "function",
    "builtin_function_or_method",
    "instance",
    "_Feature"
   ],
   "window_display": false
  }
 },
 "nbformat": 4,
 "nbformat_minor": 5
}
