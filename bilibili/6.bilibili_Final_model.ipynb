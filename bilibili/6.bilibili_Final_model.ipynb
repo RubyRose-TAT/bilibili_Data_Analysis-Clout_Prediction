{
 "cells": [
  {
   "cell_type": "code",
   "execution_count": 1,
   "id": "7bb496b2",
   "metadata": {},
   "outputs": [],
   "source": [
    "import lightgbm\n",
    "import numpy as np\n",
    "import pandas as pd\n",
    "import seaborn as sns\n",
    "import matplotlib.pyplot as plt\n",
    "%matplotlib inline\n",
    "\n",
    "import warnings\n",
    "warnings.filterwarnings(\"ignore\")\n",
    "\n",
    "plt.style.use({'figure.figsize':(15,10)})\n",
    "\n",
    "plt.rcParams['font.sans-serif']=['SimHei']\n",
    "plt.rcParams['axes.unicode_minus']=False"
   ]
  },
  {
   "cell_type": "code",
   "execution_count": 8,
   "id": "f949ffa2",
   "metadata": {},
   "outputs": [],
   "source": [
    "df = pd.read_csv('data/bilibili_rank100_data.csv')"
   ]
  },
  {
   "cell_type": "code",
   "execution_count": 9,
   "id": "f6d681de",
   "metadata": {},
   "outputs": [],
   "source": [
    "# 按标题去重\n",
    "df = df.drop_duplicates(subset=['title'],keep='last',inplace=False)\n",
    "# 缺失值处理\n",
    "df = df.drop(df[df['time']>1000].index)\n",
    "df[df.isnull().values==True]\n",
    "# 重置索引\n",
    "df=df.reset_index(drop=True, inplace=False)\n",
    "# 分区按序号编码\n",
    "def LabelEncoding(df):\n",
    "    x, dfc = 'partition', df\n",
    "    key = dfc[x].unique()  # 将唯一值作为关键字\n",
    "    value = [i for i in range(len(key))]\n",
    "    Dict = dict(zip(key, value))\n",
    "    for i in range(len(key)):\n",
    "        for j in range(dfc.shape[0]):\n",
    "            if key[i] == dfc[x][j]:\n",
    "                dfc[x][j] = Dict[key[i]]\n",
    "    dfc[x] = dfc[x].astype(np.int64)\n",
    "    return dfc\n",
    "\n",
    "df = LabelEncoding(df)"
   ]
  },
  {
   "cell_type": "code",
   "execution_count": 10,
   "id": "3c1dbb9c",
   "metadata": {},
   "outputs": [],
   "source": [
    "df = df.drop([\"author\",\"title\",\"tag\"],axis = 1)"
   ]
  },
  {
   "cell_type": "code",
   "execution_count": 11,
   "id": "26ac91a2",
   "metadata": {
    "scrolled": true
   },
   "outputs": [
    {
     "data": {
      "text/html": [
       "<div>\n",
       "<style scoped>\n",
       "    .dataframe tbody tr th:only-of-type {\n",
       "        vertical-align: middle;\n",
       "    }\n",
       "\n",
       "    .dataframe tbody tr th {\n",
       "        vertical-align: top;\n",
       "    }\n",
       "\n",
       "    .dataframe thead th {\n",
       "        text-align: right;\n",
       "    }\n",
       "</style>\n",
       "<table border=\"1\" class=\"dataframe\">\n",
       "  <thead>\n",
       "    <tr style=\"text-align: right;\">\n",
       "      <th></th>\n",
       "      <th>partition</th>\n",
       "      <th>funs</th>\n",
       "      <th>like</th>\n",
       "      <th>coins</th>\n",
       "      <th>collect</th>\n",
       "      <th>share</th>\n",
       "      <th>danmu</th>\n",
       "      <th>reply</th>\n",
       "      <th>time</th>\n",
       "      <th>like_rate</th>\n",
       "      <th>views</th>\n",
       "    </tr>\n",
       "  </thead>\n",
       "  <tbody>\n",
       "    <tr>\n",
       "      <th>0</th>\n",
       "      <td>0</td>\n",
       "      <td>176233</td>\n",
       "      <td>105149</td>\n",
       "      <td>476</td>\n",
       "      <td>15999</td>\n",
       "      <td>3271</td>\n",
       "      <td>275</td>\n",
       "      <td>2119</td>\n",
       "      <td>116.800000</td>\n",
       "      <td>0.105483</td>\n",
       "      <td>996837</td>\n",
       "    </tr>\n",
       "    <tr>\n",
       "      <th>1</th>\n",
       "      <td>1</td>\n",
       "      <td>717948</td>\n",
       "      <td>62533</td>\n",
       "      <td>31623</td>\n",
       "      <td>4020</td>\n",
       "      <td>689</td>\n",
       "      <td>736</td>\n",
       "      <td>2104</td>\n",
       "      <td>72.516667</td>\n",
       "      <td>0.128407</td>\n",
       "      <td>486992</td>\n",
       "    </tr>\n",
       "    <tr>\n",
       "      <th>2</th>\n",
       "      <td>2</td>\n",
       "      <td>3479822</td>\n",
       "      <td>41622</td>\n",
       "      <td>4923</td>\n",
       "      <td>7103</td>\n",
       "      <td>1595</td>\n",
       "      <td>1221</td>\n",
       "      <td>2095</td>\n",
       "      <td>102.050000</td>\n",
       "      <td>0.046869</td>\n",
       "      <td>888059</td>\n",
       "    </tr>\n",
       "    <tr>\n",
       "      <th>3</th>\n",
       "      <td>2</td>\n",
       "      <td>9875</td>\n",
       "      <td>8659</td>\n",
       "      <td>843</td>\n",
       "      <td>732</td>\n",
       "      <td>458</td>\n",
       "      <td>239</td>\n",
       "      <td>1371</td>\n",
       "      <td>98.716667</td>\n",
       "      <td>0.036044</td>\n",
       "      <td>240236</td>\n",
       "    </tr>\n",
       "    <tr>\n",
       "      <th>4</th>\n",
       "      <td>2</td>\n",
       "      <td>411101</td>\n",
       "      <td>12543</td>\n",
       "      <td>3244</td>\n",
       "      <td>2302</td>\n",
       "      <td>459</td>\n",
       "      <td>828</td>\n",
       "      <td>819</td>\n",
       "      <td>95.550000</td>\n",
       "      <td>0.074651</td>\n",
       "      <td>168022</td>\n",
       "    </tr>\n",
       "  </tbody>\n",
       "</table>\n",
       "</div>"
      ],
      "text/plain": [
       "   partition     funs    like  coins  collect  share  danmu  reply  \\\n",
       "0          0   176233  105149    476    15999   3271    275   2119   \n",
       "1          1   717948   62533  31623     4020    689    736   2104   \n",
       "2          2  3479822   41622   4923     7103   1595   1221   2095   \n",
       "3          2     9875    8659    843      732    458    239   1371   \n",
       "4          2   411101   12543   3244     2302    459    828    819   \n",
       "\n",
       "         time  like_rate   views  \n",
       "0  116.800000   0.105483  996837  \n",
       "1   72.516667   0.128407  486992  \n",
       "2  102.050000   0.046869  888059  \n",
       "3   98.716667   0.036044  240236  \n",
       "4   95.550000   0.074651  168022  "
      ]
     },
     "execution_count": 11,
     "metadata": {},
     "output_type": "execute_result"
    }
   ],
   "source": [
    "df.head()"
   ]
  },
  {
   "cell_type": "code",
   "execution_count": 12,
   "id": "7bdbaa63",
   "metadata": {
    "scrolled": false
   },
   "outputs": [
    {
     "data": {
      "text/plain": [
       "(5920, 11)"
      ]
     },
     "execution_count": 12,
     "metadata": {},
     "output_type": "execute_result"
    }
   ],
   "source": [
    "df.shape"
   ]
  },
  {
   "cell_type": "code",
   "execution_count": 15,
   "id": "b24b50d2",
   "metadata": {},
   "outputs": [],
   "source": [
    "from sklearn.model_selection import train_test_split"
   ]
  },
  {
   "cell_type": "code",
   "execution_count": 16,
   "id": "762ce0ab",
   "metadata": {},
   "outputs": [],
   "source": [
    "X = df.drop([\"views\"],axis = 1)\n",
    "y = df[\"views\"]\n",
    "X_train,X_test,y_train,y_test=train_test_split(X,y,test_size=0.2,random_state=6)"
   ]
  },
  {
   "cell_type": "code",
   "execution_count": 17,
   "id": "1e57781c",
   "metadata": {},
   "outputs": [
    {
     "data": {
      "text/plain": [
       "((4736, 10), (1184, 10))"
      ]
     },
     "execution_count": 17,
     "metadata": {},
     "output_type": "execute_result"
    }
   ],
   "source": [
    "X_train.shape, X_test.shape"
   ]
  },
  {
   "cell_type": "code",
   "execution_count": 18,
   "id": "b0e130e1",
   "metadata": {},
   "outputs": [],
   "source": [
    "from lightgbm import LGBMRegressor\n",
    "from sklearn.model_selection import GridSearchCV"
   ]
  },
  {
   "cell_type": "code",
   "execution_count": 18,
   "id": "c7f397d3",
   "metadata": {},
   "outputs": [
    {
     "data": {
      "text/plain": [
       "GridSearchCV(cv=10, estimator=LGBMRegressor(),\n",
       "             param_grid={'max_depth': [3, 5, 7, 9],\n",
       "                         'n_estimators': [10, 50, 100, 200, 500, 1000]})"
      ]
     },
     "execution_count": 18,
     "metadata": {},
     "output_type": "execute_result"
    }
   ],
   "source": [
    "gbm = LGBMRegressor()\n",
    "\n",
    "param_grid = {\n",
    "    'n_estimators':[10,50,100,200,500,1000],\n",
    "    'max_depth':[3,5,7,9],\n",
    "}\n",
    "\n",
    "grid = GridSearchCV(gbm, param_grid=param_grid, cv=10)\n",
    "\n",
    "grid.fit(X_train, y_train)"
   ]
  },
  {
   "cell_type": "code",
   "execution_count": 19,
   "id": "874a6ada",
   "metadata": {},
   "outputs": [
    {
     "data": {
      "text/plain": [
       "0.865338680322019"
      ]
     },
     "execution_count": 19,
     "metadata": {},
     "output_type": "execute_result"
    }
   ],
   "source": [
    "# 查看最佳分数和最佳参数\n",
    "grid.best_score_"
   ]
  },
  {
   "cell_type": "code",
   "execution_count": 20,
   "id": "36fc81ea",
   "metadata": {},
   "outputs": [
    {
     "data": {
      "text/plain": [
       "{'max_depth': 3, 'n_estimators': 100}"
      ]
     },
     "execution_count": 20,
     "metadata": {},
     "output_type": "execute_result"
    }
   ],
   "source": [
    "grid.best_params_"
   ]
  },
  {
   "cell_type": "code",
   "execution_count": 21,
   "id": "19df7694",
   "metadata": {},
   "outputs": [
    {
     "data": {
      "text/plain": [
       "LGBMRegressor(max_depth=3)"
      ]
     },
     "execution_count": 21,
     "metadata": {},
     "output_type": "execute_result"
    }
   ],
   "source": [
    "# 获取最佳模型\n",
    "grid.best_estimator_"
   ]
  },
  {
   "cell_type": "code",
   "execution_count": 22,
   "id": "b79544e7",
   "metadata": {},
   "outputs": [],
   "source": [
    "# 利用最佳模型来进行预测\n",
    "gbm=grid.best_estimator_\n",
    "pred = gbm.predict(X_test)"
   ]
  },
  {
   "cell_type": "code",
   "execution_count": 23,
   "id": "ba02d546",
   "metadata": {},
   "outputs": [
    {
     "data": {
      "text/html": [
       "<div>\n",
       "<style scoped>\n",
       "    .dataframe tbody tr th:only-of-type {\n",
       "        vertical-align: middle;\n",
       "    }\n",
       "\n",
       "    .dataframe tbody tr th {\n",
       "        vertical-align: top;\n",
       "    }\n",
       "\n",
       "    .dataframe thead th {\n",
       "        text-align: right;\n",
       "    }\n",
       "</style>\n",
       "<table border=\"1\" class=\"dataframe\">\n",
       "  <thead>\n",
       "    <tr style=\"text-align: right;\">\n",
       "      <th></th>\n",
       "      <th>labels</th>\n",
       "      <th>prediction</th>\n",
       "    </tr>\n",
       "  </thead>\n",
       "  <tbody>\n",
       "    <tr>\n",
       "      <th>781</th>\n",
       "      <td>49735</td>\n",
       "      <td>1.041912e+05</td>\n",
       "    </tr>\n",
       "    <tr>\n",
       "      <th>351</th>\n",
       "      <td>775149</td>\n",
       "      <td>1.539171e+06</td>\n",
       "    </tr>\n",
       "    <tr>\n",
       "      <th>360</th>\n",
       "      <td>2724019</td>\n",
       "      <td>2.624701e+06</td>\n",
       "    </tr>\n",
       "    <tr>\n",
       "      <th>855</th>\n",
       "      <td>125966</td>\n",
       "      <td>1.241335e+05</td>\n",
       "    </tr>\n",
       "    <tr>\n",
       "      <th>1437</th>\n",
       "      <td>151240</td>\n",
       "      <td>1.230101e+05</td>\n",
       "    </tr>\n",
       "  </tbody>\n",
       "</table>\n",
       "</div>"
      ],
      "text/plain": [
       "       labels    prediction\n",
       "781     49735  1.041912e+05\n",
       "351    775149  1.539171e+06\n",
       "360   2724019  2.624701e+06\n",
       "855    125966  1.241335e+05\n",
       "1437   151240  1.230101e+05"
      ]
     },
     "execution_count": 23,
     "metadata": {},
     "output_type": "execute_result"
    }
   ],
   "source": [
    "result = {\"labels\":y_test,\"prediction\":pred}\n",
    "result = pd.DataFrame(result)\n",
    "result.head()"
   ]
  },
  {
   "cell_type": "code",
   "execution_count": 24,
   "id": "5654b060",
   "metadata": {},
   "outputs": [
    {
     "data": {
      "image/png": "[encoded data removed]",
      "text/plain": [
       "<Figure size 1080x360 with 1 Axes>"
      ]
     },
     "metadata": {
      "needs_background": "light"
     },
     "output_type": "display_data"
    }
   ],
   "source": [
    "result['labels'].plot(style='k.',figsize=(15,5))\n",
    "result['prediction'].plot(style='r.')\n",
    "#设置图例文字大小和图示大小\n",
    "plt.legend(fontsize=15,markerscale=3)\n",
    "#设置坐标文字大小\n",
    "plt.tick_params(labelsize=25)\n",
    "#生成刻度线网格\n",
    "plt.grid()"
   ]
  },
  {
   "cell_type": "code",
   "execution_count": 25,
   "id": "758dab73",
   "metadata": {},
   "outputs": [
    {
     "name": "stdout",
     "output_type": "stream",
     "text": [
      "(MSE,RMSE)= (475086539934.499, 689265.2174123536)\n"
     ]
    }
   ],
   "source": [
    "from sklearn import metrics\n",
    "MSE = metrics.mean_squared_error(y_test,pred)\n",
    "RMSE = np.sqrt(MSE)\n",
    "print('(MSE,RMSE)=',(MSE,RMSE))"
   ]
  },
  {
   "cell_type": "code",
   "execution_count": 26,
   "id": "a7af6bb1",
   "metadata": {},
   "outputs": [
    {
     "name": "stdout",
     "output_type": "stream",
     "text": [
      "模型评分: 0.72\n"
     ]
    }
   ],
   "source": [
    "print(\"模型评分: {:.2f}\".format(gbm.score(X_test, y_test)))"
   ]
  },
  {
   "cell_type": "code",
   "execution_count": 27,
   "id": "5f95a988",
   "metadata": {},
   "outputs": [
    {
     "data": {
      "text/plain": [
       "0.7216991759947253"
      ]
     },
     "execution_count": 27,
     "metadata": {},
     "output_type": "execute_result"
    }
   ],
   "source": [
    "from sklearn.metrics import r2_score, auc\n",
    "r2_score(y_test,pred)"
   ]
  }
 ],
 "metadata": {
  "hide_input": false,
  "kernelspec": {
   "display_name": "Python 3",
   "language": "python",
   "name": "python3"
  },
  "language_info": {
   "codemirror_mode": {
    "name": "ipython",
    "version": 3
   },
   "file_extension": ".py",
   "mimetype": "text/x-python",
   "name": "python",
   "nbconvert_exporter": "python",
   "pygments_lexer": "ipython3",
   "version": "3.8.8"
  },
  "toc": {
   "base_numbering": 1,
   "nav_menu": {},
   "number_sections": false,
   "sideBar": true,
   "skip_h1_title": false,
   "title_cell": "Table of Contents",
   "title_sidebar": "Contents",
   "toc_cell": false,
   "toc_position": {},
   "toc_section_display": true,
   "toc_window_display": false
  },
  "varInspector": {
   "cols": {
    "lenName": 16,
    "lenType": 16,
    "lenVar": 40
   },
   "kernels_config": {
    "python": {
     "delete_cmd_postfix": "",
     "delete_cmd_prefix": "del ",
     "library": "var_list.py",
     "varRefreshCmd": "print(var_dic_list())"
    },
    "r": {
     "delete_cmd_postfix": ") ",
     "delete_cmd_prefix": "rm(",
     "library": "var_list.r",
     "varRefreshCmd": "cat(var_dic_list()) "
    }
   },
   "types_to_exclude": [
    "module",
    "function",
    "builtin_function_or_method",
    "instance",
    "_Feature"
   ],
   "window_display": false
  }
 },
 "nbformat": 4,
 "nbformat_minor": 5
}
