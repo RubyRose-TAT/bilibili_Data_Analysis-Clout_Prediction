{
 "cells": [
  {
   "cell_type": "code",
   "execution_count": null,
   "id": "7bb496b2",
   "metadata": {},
   "outputs": [],
   "source": [
    "import numpy as np\n",
    "import pandas as pd\n",
    "import seaborn as sns\n",
    "import matplotlib.pyplot as plt\n",
    "%matplotlib inline\n",
    "\n",
    "import warnings\n",
    "warnings.filterwarnings(\"ignore\")\n",
    "\n",
    "plt.style.use({'figure.figsize':(15,10)})\n",
    "\n",
    "plt.rcParams['font.sans-serif']=['SimHei']\n",
    "plt.rcParams['axes.unicode_minus']=False"
   ]
  },
  {
   "cell_type": "code",
   "execution_count": null,
   "id": "f949ffa2",
   "metadata": {},
   "outputs": [],
   "source": [
    "df = pd.read_csv('data/bilibili_rank100_data.csv')"
   ]
  },
  {
   "cell_type": "code",
   "execution_count": null,
   "id": "b34a378e",
   "metadata": {},
   "outputs": [],
   "source": [
    "df.head()"
   ]
  },
  {
   "cell_type": "code",
   "execution_count": null,
   "id": "eb03564a",
   "metadata": {
    "scrolled": true
   },
   "outputs": [],
   "source": [
    "df.shape"
   ]
  },
  {
   "cell_type": "code",
   "execution_count": null,
   "id": "f6d681de",
   "metadata": {},
   "outputs": [],
   "source": [
    "#按标题去重\n",
    "df = df.drop_duplicates(subset=['标题'],keep='first',inplace=False)"
   ]
  },
  {
   "cell_type": "code",
   "execution_count": null,
   "id": "2dd7e276",
   "metadata": {},
   "outputs": [],
   "source": [
    "df.shape"
   ]
  },
  {
   "cell_type": "code",
   "execution_count": null,
   "id": "3526775c",
   "metadata": {},
   "outputs": [],
   "source": [
    "#缺失值处理\n",
    "df = df.drop(df[df['时间']>1000].index)\n",
    "df[df.isnull().values==True]"
   ]
  },
  {
   "cell_type": "code",
   "execution_count": null,
   "id": "13859d67",
   "metadata": {},
   "outputs": [],
   "source": [
    "#重置索引\n",
    "df=df.reset_index(drop=True, inplace=False)"
   ]
  },
  {
   "cell_type": "code",
   "execution_count": null,
   "id": "ae547009",
   "metadata": {
    "code_folding": []
   },
   "outputs": [],
   "source": [
    "#分区按序号编码\n",
    "def LabelEncoding(df):\n",
    "    x, dfc = '分区', df\n",
    "    key = dfc[x].unique()  # 将唯一值作为关键字\n",
    "    value = [i for i in range(len(key))]  # 键值\n",
    "    Dict = dict(zip(key, value))  # 字典，即键值对\n",
    "    for i in range(len(key)):\n",
    "        for j in range(dfc.shape[0]):\n",
    "            if key[i] == dfc[x][j]:\n",
    "                dfc[x][j] = Dict[key[i]]\n",
    "    dfc[x] = dfc[x].astype(np.int64)\n",
    "    return dfc\n",
    "\n",
    "df = LabelEncoding(df)"
   ]
  },
  {
   "cell_type": "code",
   "execution_count": null,
   "id": "26ac91a2",
   "metadata": {
    "scrolled": true
   },
   "outputs": [],
   "source": [
    "df.head()"
   ]
  },
  {
   "cell_type": "code",
   "execution_count": null,
   "id": "7bdbaa63",
   "metadata": {
    "scrolled": false
   },
   "outputs": [],
   "source": [
    "df.shape"
   ]
  },
  {
   "cell_type": "code",
   "execution_count": null,
   "id": "e4987f8b",
   "metadata": {},
   "outputs": [],
   "source": [
    "df.info()"
   ]
  },
  {
   "cell_type": "code",
   "execution_count": null,
   "id": "b24b50d2",
   "metadata": {},
   "outputs": [],
   "source": [
    "from sklearn.model_selection import train_test_split"
   ]
  },
  {
   "cell_type": "code",
   "execution_count": null,
   "id": "6df9f2d9",
   "metadata": {},
   "outputs": [],
   "source": [
    "df.drop(df.columns[[0,2,10,11,12]],axis=1,inplace=True)\n",
    "df"
   ]
  },
  {
   "cell_type": "code",
   "execution_count": null,
   "id": "762ce0ab",
   "metadata": {},
   "outputs": [],
   "source": [
    "X = df.drop([\"播放\"],axis = 1)\n",
    "y = df[\"播放\"]\n",
    "X_train,X_test,y_train,y_test=train_test_split(X,y,random_state=99)"
   ]
  },
  {
   "cell_type": "code",
   "execution_count": null,
   "id": "1e57781c",
   "metadata": {},
   "outputs": [],
   "source": [
    "X_train.shape, X_test.shape"
   ]
  },
  {
   "cell_type": "code",
   "execution_count": null,
   "id": "b0e130e1",
   "metadata": {},
   "outputs": [],
   "source": [
    "from sklearn.ensemble import GradientBoostingRegressor\n",
    "from sklearn.model_selection import GridSearchCV"
   ]
  },
  {
   "cell_type": "code",
   "execution_count": null,
   "id": "c7f397d3",
   "metadata": {},
   "outputs": [],
   "source": [
    "gbdt = GradientBoostingRegressor()\n",
    "\n",
    "param_grid = {\n",
    "    'n_estimators':[10,50,100,200,500,1000],\n",
    "    'max_depth':[3,5,7,9],\n",
    "}\n",
    "\n",
    "grid = GridSearchCV(gbdt, param_grid=param_grid, cv=10)\n",
    "\n",
    "grid.fit(X_train, y_train)"
   ]
  },
  {
   "cell_type": "code",
   "execution_count": null,
   "id": "874a6ada",
   "metadata": {},
   "outputs": [],
   "source": [
    "# 查看最佳分数和最佳参数\n",
    "grid.best_score_"
   ]
  },
  {
   "cell_type": "code",
   "execution_count": null,
   "id": "2ca003f4",
   "metadata": {},
   "outputs": [],
   "source": [
    "grid.best_params_"
   ]
  },
  {
   "cell_type": "code",
   "execution_count": null,
   "id": "19df7694",
   "metadata": {},
   "outputs": [],
   "source": [
    "# 获取最佳模型\n",
    "grid.best_estimator_"
   ]
  },
  {
   "cell_type": "code",
   "execution_count": null,
   "id": "b79544e7",
   "metadata": {},
   "outputs": [],
   "source": [
    "# 利用最佳模型来进行预测\n",
    "gbdt=grid.best_estimator_\n",
    "pred = gbdt.predict(X_test)"
   ]
  },
  {
   "cell_type": "code",
   "execution_count": null,
   "id": "ba02d546",
   "metadata": {},
   "outputs": [],
   "source": [
    "result = {\"labels\":y_test,\"prediction\":pred}\n",
    "result = pd.DataFrame(result)\n",
    "result.head()"
   ]
  },
  {
   "cell_type": "code",
   "execution_count": null,
   "id": "5654b060",
   "metadata": {},
   "outputs": [],
   "source": [
    "result['labels'].plot(style='k.',figsize=(15,5))\n",
    "result['prediction'].plot(style='r.')\n",
    "#设置图例文字大小和图示大小\n",
    "plt.legend(fontsize=15,markerscale=3)\n",
    "#设置坐标文字大小\n",
    "plt.tick_params(labelsize=25)\n",
    "#生成刻度线网格\n",
    "plt.grid()"
   ]
  },
  {
   "cell_type": "code",
   "execution_count": null,
   "id": "758dab73",
   "metadata": {},
   "outputs": [],
   "source": [
    "from sklearn import metrics\n",
    "MSE = metrics.mean_squared_error(y_test,pred)\n",
    "RMSE = np.sqrt(MSE)\n",
    "print('(MSE,RMSE)=',(MSE,RMSE))"
   ]
  },
  {
   "cell_type": "code",
   "execution_count": null,
   "id": "a7af6bb1",
   "metadata": {},
   "outputs": [],
   "source": [
    "print(\"模型评分: {:.2f}\".format(gbdt.score(X_test, y_test)))"
   ]
  }
 ],
 "metadata": {
  "hide_input": false,
  "kernelspec": {
   "display_name": "Python 3",
   "language": "python",
   "name": "python3"
  },
  "language_info": {
   "codemirror_mode": {
    "name": "ipython",
    "version": 3
   },
   "file_extension": ".py",
   "mimetype": "text/x-python",
   "name": "python",
   "nbconvert_exporter": "python",
   "pygments_lexer": "ipython3",
   "version": "3.8.8"
  },
  "toc": {
   "base_numbering": 1,
   "nav_menu": {},
   "number_sections": false,
   "sideBar": true,
   "skip_h1_title": false,
   "title_cell": "Table of Contents",
   "title_sidebar": "Contents",
   "toc_cell": false,
   "toc_position": {},
   "toc_section_display": true,
   "toc_window_display": false
  },
  "varInspector": {
   "cols": {
    "lenName": 16,
    "lenType": 16,
    "lenVar": 40
   },
   "kernels_config": {
    "python": {
     "delete_cmd_postfix": "",
     "delete_cmd_prefix": "del ",
     "library": "var_list.py",
     "varRefreshCmd": "print(var_dic_list())"
    },
    "r": {
     "delete_cmd_postfix": ") ",
     "delete_cmd_prefix": "rm(",
     "library": "var_list.r",
     "varRefreshCmd": "cat(var_dic_list()) "
    }
   },
   "types_to_exclude": [
    "module",
    "function",
    "builtin_function_or_method",
    "instance",
    "_Feature"
   ],
   "window_display": false
  }
 },
 "nbformat": 4,
 "nbformat_minor": 5
}
