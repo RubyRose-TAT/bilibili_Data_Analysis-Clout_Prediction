{
 "cells": [
  {
   "cell_type": "code",
   "execution_count": 1,
   "id": "7bb496b2",
   "metadata": {},
   "outputs": [],
   "source": [
    "import numpy as np\n",
    "import pandas as pd\n",
    "import seaborn as sns\n",
    "import matplotlib.pyplot as plt\n",
    "%matplotlib inline\n",
    "\n",
    "import warnings\n",
    "warnings.filterwarnings(\"ignore\")\n",
    "\n",
    "plt.style.use({'figure.figsize':(15,10)})\n",
    "\n",
    "plt.rcParams['font.sans-serif']=['SimHei']\n",
    "plt.rcParams['axes.unicode_minus']=False"
   ]
  },
  {
   "cell_type": "code",
   "execution_count": 2,
   "id": "f949ffa2",
   "metadata": {},
   "outputs": [],
   "source": [
    "df = pd.read_csv('data/bilibili_rank100_data.csv')"
   ]
  },
  {
   "cell_type": "code",
   "execution_count": 3,
   "id": "b34a378e",
   "metadata": {},
   "outputs": [
    {
     "data": {
      "text/html": [
       "<div>\n",
       "<style scoped>\n",
       "    .dataframe tbody tr th:only-of-type {\n",
       "        vertical-align: middle;\n",
       "    }\n",
       "\n",
       "    .dataframe tbody tr th {\n",
       "        vertical-align: top;\n",
       "    }\n",
       "\n",
       "    .dataframe thead th {\n",
       "        text-align: right;\n",
       "    }\n",
       "</style>\n",
       "<table border=\"1\" class=\"dataframe\">\n",
       "  <thead>\n",
       "    <tr style=\"text-align: right;\">\n",
       "      <th></th>\n",
       "      <th>作者</th>\n",
       "      <th>粉丝</th>\n",
       "      <th>标题</th>\n",
       "      <th>点赞</th>\n",
       "      <th>硬币</th>\n",
       "      <th>收藏</th>\n",
       "      <th>分享</th>\n",
       "      <th>弹幕</th>\n",
       "      <th>播放</th>\n",
       "      <th>评论</th>\n",
       "      <th>上传时间</th>\n",
       "      <th>爬取时间</th>\n",
       "      <th>标签</th>\n",
       "      <th>分区</th>\n",
       "      <th>时间</th>\n",
       "    </tr>\n",
       "  </thead>\n",
       "  <tbody>\n",
       "    <tr>\n",
       "      <th>0</th>\n",
       "      <td>木鱼水心</td>\n",
       "      <td>7965289</td>\n",
       "      <td>许三多孤身入敌！老A全军覆没？《士兵突击》P8</td>\n",
       "      <td>247781</td>\n",
       "      <td>143746</td>\n",
       "      <td>24366</td>\n",
       "      <td>2807</td>\n",
       "      <td>28080</td>\n",
       "      <td>1618512</td>\n",
       "      <td>7246</td>\n",
       "      <td>2021/11/22 22:41</td>\n",
       "      <td>2021/11/25 18:00</td>\n",
       "      <td>影视 影视杂谈</td>\n",
       "      <td>all</td>\n",
       "      <td>67.316667</td>\n",
       "    </tr>\n",
       "    <tr>\n",
       "      <th>1</th>\n",
       "      <td>歪果仁研究协会</td>\n",
       "      <td>4049110</td>\n",
       "      <td>我在第一次见面的地方向她求婚了</td>\n",
       "      <td>207752</td>\n",
       "      <td>228697</td>\n",
       "      <td>28627</td>\n",
       "      <td>5070</td>\n",
       "      <td>16583</td>\n",
       "      <td>1188497</td>\n",
       "      <td>8594</td>\n",
       "      <td>2021/11/23 20:20</td>\n",
       "      <td>2021/11/25 18:00</td>\n",
       "      <td>生活 日常</td>\n",
       "      <td>all</td>\n",
       "      <td>45.666667</td>\n",
       "    </tr>\n",
       "    <tr>\n",
       "      <th>2</th>\n",
       "      <td>是老胡没错</td>\n",
       "      <td>813083</td>\n",
       "      <td>社 交 废 物 4</td>\n",
       "      <td>203563</td>\n",
       "      <td>62321</td>\n",
       "      <td>32952</td>\n",
       "      <td>17195</td>\n",
       "      <td>7308</td>\n",
       "      <td>2302605</td>\n",
       "      <td>6795</td>\n",
       "      <td>2021/11/22 17:35</td>\n",
       "      <td>2021/11/25 18:00</td>\n",
       "      <td>生活 搞笑</td>\n",
       "      <td>all</td>\n",
       "      <td>72.416667</td>\n",
       "    </tr>\n",
       "    <tr>\n",
       "      <th>3</th>\n",
       "      <td>鲁大能</td>\n",
       "      <td>1964943</td>\n",
       "      <td>“你 开 炮 啊 ！”【迫击炮快乐阴人流#2】</td>\n",
       "      <td>167715</td>\n",
       "      <td>122199</td>\n",
       "      <td>29608</td>\n",
       "      <td>5901</td>\n",
       "      <td>9272</td>\n",
       "      <td>1195430</td>\n",
       "      <td>1883</td>\n",
       "      <td>2021/11/23 12:00</td>\n",
       "      <td>2021/11/25 18:01</td>\n",
       "      <td>游戏 网络游戏</td>\n",
       "      <td>all</td>\n",
       "      <td>54.016667</td>\n",
       "    </tr>\n",
       "    <tr>\n",
       "      <th>4</th>\n",
       "      <td>进击的金厂长</td>\n",
       "      <td>2689136</td>\n",
       "      <td>当 代 毕 业 生 生 存 现 状 3.0</td>\n",
       "      <td>128799</td>\n",
       "      <td>116933</td>\n",
       "      <td>38051</td>\n",
       "      <td>6813</td>\n",
       "      <td>4448</td>\n",
       "      <td>1600703</td>\n",
       "      <td>3357</td>\n",
       "      <td>2021/11/22 19:42</td>\n",
       "      <td>2021/11/25 18:01</td>\n",
       "      <td>动画 综合</td>\n",
       "      <td>all</td>\n",
       "      <td>70.316667</td>\n",
       "    </tr>\n",
       "  </tbody>\n",
       "</table>\n",
       "</div>"
      ],
      "text/plain": [
       "        作者       粉丝                       标题      点赞      硬币     收藏     分享  \\\n",
       "0     木鱼水心  7965289  许三多孤身入敌！老A全军覆没？《士兵突击》P8  247781  143746  24366   2807   \n",
       "1  歪果仁研究协会  4049110          我在第一次见面的地方向她求婚了  207752  228697  28627   5070   \n",
       "2    是老胡没错   813083                社 交 废 物 4  203563   62321  32952  17195   \n",
       "3      鲁大能  1964943  “你 开 炮 啊 ！”【迫击炮快乐阴人流#2】  167715  122199  29608   5901   \n",
       "4   进击的金厂长  2689136    当 代 毕 业 生 生 存 现 状 3.0  128799  116933  38051   6813   \n",
       "\n",
       "      弹幕       播放    评论              上传时间              爬取时间       标签   分区  \\\n",
       "0  28080  1618512  7246  2021/11/22 22:41  2021/11/25 18:00  影视 影视杂谈  all   \n",
       "1  16583  1188497  8594  2021/11/23 20:20  2021/11/25 18:00    生活 日常  all   \n",
       "2   7308  2302605  6795  2021/11/22 17:35  2021/11/25 18:00    生活 搞笑  all   \n",
       "3   9272  1195430  1883  2021/11/23 12:00  2021/11/25 18:01  游戏 网络游戏  all   \n",
       "4   4448  1600703  3357  2021/11/22 19:42  2021/11/25 18:01    动画 综合  all   \n",
       "\n",
       "          时间  \n",
       "0  67.316667  \n",
       "1  45.666667  \n",
       "2  72.416667  \n",
       "3  54.016667  \n",
       "4  70.316667  "
      ]
     },
     "execution_count": 3,
     "metadata": {},
     "output_type": "execute_result"
    }
   ],
   "source": [
    "df.head()"
   ]
  },
  {
   "cell_type": "code",
   "execution_count": 4,
   "id": "eb03564a",
   "metadata": {
    "scrolled": true
   },
   "outputs": [
    {
     "data": {
      "text/plain": [
       "(1901, 15)"
      ]
     },
     "execution_count": 4,
     "metadata": {},
     "output_type": "execute_result"
    }
   ],
   "source": [
    "df.shape"
   ]
  },
  {
   "cell_type": "code",
   "execution_count": 5,
   "id": "f6d681de",
   "metadata": {},
   "outputs": [],
   "source": [
    "#按标题去重\n",
    "df = df.drop_duplicates(subset=['标题'],keep='first',inplace=False)"
   ]
  },
  {
   "cell_type": "code",
   "execution_count": 6,
   "id": "2dd7e276",
   "metadata": {},
   "outputs": [
    {
     "data": {
      "text/plain": [
       "(1636, 15)"
      ]
     },
     "execution_count": 6,
     "metadata": {},
     "output_type": "execute_result"
    }
   ],
   "source": [
    "df.shape"
   ]
  },
  {
   "cell_type": "code",
   "execution_count": 7,
   "id": "3526775c",
   "metadata": {},
   "outputs": [
    {
     "data": {
      "text/html": [
       "<div>\n",
       "<style scoped>\n",
       "    .dataframe tbody tr th:only-of-type {\n",
       "        vertical-align: middle;\n",
       "    }\n",
       "\n",
       "    .dataframe tbody tr th {\n",
       "        vertical-align: top;\n",
       "    }\n",
       "\n",
       "    .dataframe thead th {\n",
       "        text-align: right;\n",
       "    }\n",
       "</style>\n",
       "<table border=\"1\" class=\"dataframe\">\n",
       "  <thead>\n",
       "    <tr style=\"text-align: right;\">\n",
       "      <th></th>\n",
       "      <th>作者</th>\n",
       "      <th>粉丝</th>\n",
       "      <th>标题</th>\n",
       "      <th>点赞</th>\n",
       "      <th>硬币</th>\n",
       "      <th>收藏</th>\n",
       "      <th>分享</th>\n",
       "      <th>弹幕</th>\n",
       "      <th>播放</th>\n",
       "      <th>评论</th>\n",
       "      <th>上传时间</th>\n",
       "      <th>爬取时间</th>\n",
       "      <th>标签</th>\n",
       "      <th>分区</th>\n",
       "      <th>时间</th>\n",
       "    </tr>\n",
       "  </thead>\n",
       "  <tbody>\n",
       "    <tr>\n",
       "      <th>158</th>\n",
       "      <td>星有野</td>\n",
       "      <td>2061928</td>\n",
       "      <td>【我怎么才能让你相信国创动画】</td>\n",
       "      <td>253632</td>\n",
       "      <td>112476</td>\n",
       "      <td>42338</td>\n",
       "      <td>8076</td>\n",
       "      <td>6495</td>\n",
       "      <td>2398481</td>\n",
       "      <td>5382</td>\n",
       "      <td>2021/11/21 4:53</td>\n",
       "      <td>2021/11/25 18:11</td>\n",
       "      <td>NaN</td>\n",
       "      <td>guochuang</td>\n",
       "      <td>109.3</td>\n",
       "    </tr>\n",
       "  </tbody>\n",
       "</table>\n",
       "</div>"
      ],
      "text/plain": [
       "      作者       粉丝               标题      点赞      硬币     收藏    分享    弹幕  \\\n",
       "158  星有野  2061928  【我怎么才能让你相信国创动画】  253632  112476  42338  8076  6495   \n",
       "\n",
       "          播放    评论             上传时间              爬取时间   标签         分区     时间  \n",
       "158  2398481  5382  2021/11/21 4:53  2021/11/25 18:11  NaN  guochuang  109.3  "
      ]
     },
     "execution_count": 7,
     "metadata": {},
     "output_type": "execute_result"
    }
   ],
   "source": [
    "#缺失值处理\n",
    "df = df.drop(df[df['时间']>1000].index)\n",
    "df[df.isnull().values==True]"
   ]
  },
  {
   "cell_type": "code",
   "execution_count": 8,
   "id": "13859d67",
   "metadata": {},
   "outputs": [],
   "source": [
    "#重置索引\n",
    "df=df.reset_index(drop=True, inplace=False)"
   ]
  },
  {
   "cell_type": "code",
   "execution_count": 9,
   "id": "ae547009",
   "metadata": {
    "code_folding": []
   },
   "outputs": [],
   "source": [
    "#分区按序号编码\n",
    "def LabelEncoding(df):\n",
    "    x, dfc = '分区', df\n",
    "    key = dfc[x].unique()  # 将唯一值作为关键字\n",
    "    value = [i for i in range(len(key))]  # 键值\n",
    "    Dict = dict(zip(key, value))  # 字典，即键值对\n",
    "    for i in range(len(key)):\n",
    "        for j in range(dfc.shape[0]):\n",
    "            if key[i] == dfc[x][j]:\n",
    "                dfc[x][j] = Dict[key[i]]\n",
    "    dfc[x] = dfc[x].astype(np.int64)\n",
    "    return dfc\n",
    "\n",
    "df = LabelEncoding(df)"
   ]
  },
  {
   "cell_type": "code",
   "execution_count": 10,
   "id": "26ac91a2",
   "metadata": {
    "scrolled": true
   },
   "outputs": [
    {
     "data": {
      "text/html": [
       "<div>\n",
       "<style scoped>\n",
       "    .dataframe tbody tr th:only-of-type {\n",
       "        vertical-align: middle;\n",
       "    }\n",
       "\n",
       "    .dataframe tbody tr th {\n",
       "        vertical-align: top;\n",
       "    }\n",
       "\n",
       "    .dataframe thead th {\n",
       "        text-align: right;\n",
       "    }\n",
       "</style>\n",
       "<table border=\"1\" class=\"dataframe\">\n",
       "  <thead>\n",
       "    <tr style=\"text-align: right;\">\n",
       "      <th></th>\n",
       "      <th>作者</th>\n",
       "      <th>粉丝</th>\n",
       "      <th>标题</th>\n",
       "      <th>点赞</th>\n",
       "      <th>硬币</th>\n",
       "      <th>收藏</th>\n",
       "      <th>分享</th>\n",
       "      <th>弹幕</th>\n",
       "      <th>播放</th>\n",
       "      <th>评论</th>\n",
       "      <th>上传时间</th>\n",
       "      <th>爬取时间</th>\n",
       "      <th>标签</th>\n",
       "      <th>分区</th>\n",
       "      <th>时间</th>\n",
       "    </tr>\n",
       "  </thead>\n",
       "  <tbody>\n",
       "    <tr>\n",
       "      <th>0</th>\n",
       "      <td>木鱼水心</td>\n",
       "      <td>7965289</td>\n",
       "      <td>许三多孤身入敌！老A全军覆没？《士兵突击》P8</td>\n",
       "      <td>247781</td>\n",
       "      <td>143746</td>\n",
       "      <td>24366</td>\n",
       "      <td>2807</td>\n",
       "      <td>28080</td>\n",
       "      <td>1618512</td>\n",
       "      <td>7246</td>\n",
       "      <td>2021/11/22 22:41</td>\n",
       "      <td>2021/11/25 18:00</td>\n",
       "      <td>影视 影视杂谈</td>\n",
       "      <td>0</td>\n",
       "      <td>67.316667</td>\n",
       "    </tr>\n",
       "    <tr>\n",
       "      <th>1</th>\n",
       "      <td>歪果仁研究协会</td>\n",
       "      <td>4049110</td>\n",
       "      <td>我在第一次见面的地方向她求婚了</td>\n",
       "      <td>207752</td>\n",
       "      <td>228697</td>\n",
       "      <td>28627</td>\n",
       "      <td>5070</td>\n",
       "      <td>16583</td>\n",
       "      <td>1188497</td>\n",
       "      <td>8594</td>\n",
       "      <td>2021/11/23 20:20</td>\n",
       "      <td>2021/11/25 18:00</td>\n",
       "      <td>生活 日常</td>\n",
       "      <td>0</td>\n",
       "      <td>45.666667</td>\n",
       "    </tr>\n",
       "    <tr>\n",
       "      <th>2</th>\n",
       "      <td>是老胡没错</td>\n",
       "      <td>813083</td>\n",
       "      <td>社 交 废 物 4</td>\n",
       "      <td>203563</td>\n",
       "      <td>62321</td>\n",
       "      <td>32952</td>\n",
       "      <td>17195</td>\n",
       "      <td>7308</td>\n",
       "      <td>2302605</td>\n",
       "      <td>6795</td>\n",
       "      <td>2021/11/22 17:35</td>\n",
       "      <td>2021/11/25 18:00</td>\n",
       "      <td>生活 搞笑</td>\n",
       "      <td>0</td>\n",
       "      <td>72.416667</td>\n",
       "    </tr>\n",
       "    <tr>\n",
       "      <th>3</th>\n",
       "      <td>鲁大能</td>\n",
       "      <td>1964943</td>\n",
       "      <td>“你 开 炮 啊 ！”【迫击炮快乐阴人流#2】</td>\n",
       "      <td>167715</td>\n",
       "      <td>122199</td>\n",
       "      <td>29608</td>\n",
       "      <td>5901</td>\n",
       "      <td>9272</td>\n",
       "      <td>1195430</td>\n",
       "      <td>1883</td>\n",
       "      <td>2021/11/23 12:00</td>\n",
       "      <td>2021/11/25 18:01</td>\n",
       "      <td>游戏 网络游戏</td>\n",
       "      <td>0</td>\n",
       "      <td>54.016667</td>\n",
       "    </tr>\n",
       "    <tr>\n",
       "      <th>4</th>\n",
       "      <td>进击的金厂长</td>\n",
       "      <td>2689136</td>\n",
       "      <td>当 代 毕 业 生 生 存 现 状 3.0</td>\n",
       "      <td>128799</td>\n",
       "      <td>116933</td>\n",
       "      <td>38051</td>\n",
       "      <td>6813</td>\n",
       "      <td>4448</td>\n",
       "      <td>1600703</td>\n",
       "      <td>3357</td>\n",
       "      <td>2021/11/22 19:42</td>\n",
       "      <td>2021/11/25 18:01</td>\n",
       "      <td>动画 综合</td>\n",
       "      <td>0</td>\n",
       "      <td>70.316667</td>\n",
       "    </tr>\n",
       "  </tbody>\n",
       "</table>\n",
       "</div>"
      ],
      "text/plain": [
       "        作者       粉丝                       标题      点赞      硬币     收藏     分享  \\\n",
       "0     木鱼水心  7965289  许三多孤身入敌！老A全军覆没？《士兵突击》P8  247781  143746  24366   2807   \n",
       "1  歪果仁研究协会  4049110          我在第一次见面的地方向她求婚了  207752  228697  28627   5070   \n",
       "2    是老胡没错   813083                社 交 废 物 4  203563   62321  32952  17195   \n",
       "3      鲁大能  1964943  “你 开 炮 啊 ！”【迫击炮快乐阴人流#2】  167715  122199  29608   5901   \n",
       "4   进击的金厂长  2689136    当 代 毕 业 生 生 存 现 状 3.0  128799  116933  38051   6813   \n",
       "\n",
       "      弹幕       播放    评论              上传时间              爬取时间       标签  分区  \\\n",
       "0  28080  1618512  7246  2021/11/22 22:41  2021/11/25 18:00  影视 影视杂谈   0   \n",
       "1  16583  1188497  8594  2021/11/23 20:20  2021/11/25 18:00    生活 日常   0   \n",
       "2   7308  2302605  6795  2021/11/22 17:35  2021/11/25 18:00    生活 搞笑   0   \n",
       "3   9272  1195430  1883  2021/11/23 12:00  2021/11/25 18:01  游戏 网络游戏   0   \n",
       "4   4448  1600703  3357  2021/11/22 19:42  2021/11/25 18:01    动画 综合   0   \n",
       "\n",
       "          时间  \n",
       "0  67.316667  \n",
       "1  45.666667  \n",
       "2  72.416667  \n",
       "3  54.016667  \n",
       "4  70.316667  "
      ]
     },
     "execution_count": 10,
     "metadata": {},
     "output_type": "execute_result"
    }
   ],
   "source": [
    "df.head()"
   ]
  },
  {
   "cell_type": "code",
   "execution_count": 11,
   "id": "7bdbaa63",
   "metadata": {
    "scrolled": false
   },
   "outputs": [
    {
     "data": {
      "text/plain": [
       "(1614, 15)"
      ]
     },
     "execution_count": 11,
     "metadata": {},
     "output_type": "execute_result"
    }
   ],
   "source": [
    "df.shape"
   ]
  },
  {
   "cell_type": "code",
   "execution_count": 12,
   "id": "e4987f8b",
   "metadata": {},
   "outputs": [
    {
     "name": "stdout",
     "output_type": "stream",
     "text": [
      "<class 'pandas.core.frame.DataFrame'>\n",
      "RangeIndex: 1614 entries, 0 to 1613\n",
      "Data columns (total 15 columns):\n",
      " #   Column  Non-Null Count  Dtype  \n",
      "---  ------  --------------  -----  \n",
      " 0   作者      1614 non-null   object \n",
      " 1   粉丝      1614 non-null   int64  \n",
      " 2   标题      1614 non-null   object \n",
      " 3   点赞      1614 non-null   int64  \n",
      " 4   硬币      1614 non-null   int64  \n",
      " 5   收藏      1614 non-null   int64  \n",
      " 6   分享      1614 non-null   int64  \n",
      " 7   弹幕      1614 non-null   int64  \n",
      " 8   播放      1614 non-null   int64  \n",
      " 9   评论      1614 non-null   int64  \n",
      " 10  上传时间    1614 non-null   object \n",
      " 11  爬取时间    1614 non-null   object \n",
      " 12  标签      1613 non-null   object \n",
      " 13  分区      1614 non-null   int64  \n",
      " 14  时间      1614 non-null   float64\n",
      "dtypes: float64(1), int64(9), object(5)\n",
      "memory usage: 189.3+ KB\n"
     ]
    }
   ],
   "source": [
    "df.info()"
   ]
  },
  {
   "cell_type": "code",
   "execution_count": 13,
   "id": "b24b50d2",
   "metadata": {},
   "outputs": [],
   "source": [
    "from sklearn.model_selection import train_test_split"
   ]
  },
  {
   "cell_type": "code",
   "execution_count": 14,
   "id": "6df9f2d9",
   "metadata": {},
   "outputs": [
    {
     "data": {
      "text/html": [
       "<div>\n",
       "<style scoped>\n",
       "    .dataframe tbody tr th:only-of-type {\n",
       "        vertical-align: middle;\n",
       "    }\n",
       "\n",
       "    .dataframe tbody tr th {\n",
       "        vertical-align: top;\n",
       "    }\n",
       "\n",
       "    .dataframe thead th {\n",
       "        text-align: right;\n",
       "    }\n",
       "</style>\n",
       "<table border=\"1\" class=\"dataframe\">\n",
       "  <thead>\n",
       "    <tr style=\"text-align: right;\">\n",
       "      <th></th>\n",
       "      <th>粉丝</th>\n",
       "      <th>点赞</th>\n",
       "      <th>硬币</th>\n",
       "      <th>收藏</th>\n",
       "      <th>分享</th>\n",
       "      <th>弹幕</th>\n",
       "      <th>播放</th>\n",
       "      <th>评论</th>\n",
       "      <th>分区</th>\n",
       "      <th>时间</th>\n",
       "    </tr>\n",
       "  </thead>\n",
       "  <tbody>\n",
       "    <tr>\n",
       "      <th>0</th>\n",
       "      <td>7965289</td>\n",
       "      <td>247781</td>\n",
       "      <td>143746</td>\n",
       "      <td>24366</td>\n",
       "      <td>2807</td>\n",
       "      <td>28080</td>\n",
       "      <td>1618512</td>\n",
       "      <td>7246</td>\n",
       "      <td>0</td>\n",
       "      <td>67.316667</td>\n",
       "    </tr>\n",
       "    <tr>\n",
       "      <th>1</th>\n",
       "      <td>4049110</td>\n",
       "      <td>207752</td>\n",
       "      <td>228697</td>\n",
       "      <td>28627</td>\n",
       "      <td>5070</td>\n",
       "      <td>16583</td>\n",
       "      <td>1188497</td>\n",
       "      <td>8594</td>\n",
       "      <td>0</td>\n",
       "      <td>45.666667</td>\n",
       "    </tr>\n",
       "    <tr>\n",
       "      <th>2</th>\n",
       "      <td>813083</td>\n",
       "      <td>203563</td>\n",
       "      <td>62321</td>\n",
       "      <td>32952</td>\n",
       "      <td>17195</td>\n",
       "      <td>7308</td>\n",
       "      <td>2302605</td>\n",
       "      <td>6795</td>\n",
       "      <td>0</td>\n",
       "      <td>72.416667</td>\n",
       "    </tr>\n",
       "    <tr>\n",
       "      <th>3</th>\n",
       "      <td>1964943</td>\n",
       "      <td>167715</td>\n",
       "      <td>122199</td>\n",
       "      <td>29608</td>\n",
       "      <td>5901</td>\n",
       "      <td>9272</td>\n",
       "      <td>1195430</td>\n",
       "      <td>1883</td>\n",
       "      <td>0</td>\n",
       "      <td>54.016667</td>\n",
       "    </tr>\n",
       "    <tr>\n",
       "      <th>4</th>\n",
       "      <td>2689136</td>\n",
       "      <td>128799</td>\n",
       "      <td>116933</td>\n",
       "      <td>38051</td>\n",
       "      <td>6813</td>\n",
       "      <td>4448</td>\n",
       "      <td>1600703</td>\n",
       "      <td>3357</td>\n",
       "      <td>0</td>\n",
       "      <td>70.316667</td>\n",
       "    </tr>\n",
       "    <tr>\n",
       "      <th>...</th>\n",
       "      <td>...</td>\n",
       "      <td>...</td>\n",
       "      <td>...</td>\n",
       "      <td>...</td>\n",
       "      <td>...</td>\n",
       "      <td>...</td>\n",
       "      <td>...</td>\n",
       "      <td>...</td>\n",
       "      <td>...</td>\n",
       "      <td>...</td>\n",
       "    </tr>\n",
       "    <tr>\n",
       "      <th>1609</th>\n",
       "      <td>2166</td>\n",
       "      <td>4688</td>\n",
       "      <td>1946</td>\n",
       "      <td>5192</td>\n",
       "      <td>1554</td>\n",
       "      <td>322</td>\n",
       "      <td>78670</td>\n",
       "      <td>200</td>\n",
       "      <td>18</td>\n",
       "      <td>53.400000</td>\n",
       "    </tr>\n",
       "    <tr>\n",
       "      <th>1610</th>\n",
       "      <td>993</td>\n",
       "      <td>19771</td>\n",
       "      <td>33</td>\n",
       "      <td>858</td>\n",
       "      <td>367</td>\n",
       "      <td>76</td>\n",
       "      <td>720973</td>\n",
       "      <td>277</td>\n",
       "      <td>18</td>\n",
       "      <td>198.400000</td>\n",
       "    </tr>\n",
       "    <tr>\n",
       "      <th>1611</th>\n",
       "      <td>4881</td>\n",
       "      <td>68309</td>\n",
       "      <td>9801</td>\n",
       "      <td>9304</td>\n",
       "      <td>8657</td>\n",
       "      <td>4256</td>\n",
       "      <td>1956567</td>\n",
       "      <td>15655</td>\n",
       "      <td>18</td>\n",
       "      <td>240.166667</td>\n",
       "    </tr>\n",
       "    <tr>\n",
       "      <th>1612</th>\n",
       "      <td>1044</td>\n",
       "      <td>6484</td>\n",
       "      <td>320</td>\n",
       "      <td>916</td>\n",
       "      <td>2744</td>\n",
       "      <td>189</td>\n",
       "      <td>177645</td>\n",
       "      <td>424</td>\n",
       "      <td>18</td>\n",
       "      <td>30.933333</td>\n",
       "    </tr>\n",
       "    <tr>\n",
       "      <th>1613</th>\n",
       "      <td>15614</td>\n",
       "      <td>8831</td>\n",
       "      <td>1074</td>\n",
       "      <td>904</td>\n",
       "      <td>175</td>\n",
       "      <td>64</td>\n",
       "      <td>157680</td>\n",
       "      <td>216</td>\n",
       "      <td>18</td>\n",
       "      <td>26.233333</td>\n",
       "    </tr>\n",
       "  </tbody>\n",
       "</table>\n",
       "<p>1614 rows × 10 columns</p>\n",
       "</div>"
      ],
      "text/plain": [
       "           粉丝      点赞      硬币     收藏     分享     弹幕       播放     评论  分区  \\\n",
       "0     7965289  247781  143746  24366   2807  28080  1618512   7246   0   \n",
       "1     4049110  207752  228697  28627   5070  16583  1188497   8594   0   \n",
       "2      813083  203563   62321  32952  17195   7308  2302605   6795   0   \n",
       "3     1964943  167715  122199  29608   5901   9272  1195430   1883   0   \n",
       "4     2689136  128799  116933  38051   6813   4448  1600703   3357   0   \n",
       "...       ...     ...     ...    ...    ...    ...      ...    ...  ..   \n",
       "1609     2166    4688    1946   5192   1554    322    78670    200  18   \n",
       "1610      993   19771      33    858    367     76   720973    277  18   \n",
       "1611     4881   68309    9801   9304   8657   4256  1956567  15655  18   \n",
       "1612     1044    6484     320    916   2744    189   177645    424  18   \n",
       "1613    15614    8831    1074    904    175     64   157680    216  18   \n",
       "\n",
       "              时间  \n",
       "0      67.316667  \n",
       "1      45.666667  \n",
       "2      72.416667  \n",
       "3      54.016667  \n",
       "4      70.316667  \n",
       "...          ...  \n",
       "1609   53.400000  \n",
       "1610  198.400000  \n",
       "1611  240.166667  \n",
       "1612   30.933333  \n",
       "1613   26.233333  \n",
       "\n",
       "[1614 rows x 10 columns]"
      ]
     },
     "execution_count": 14,
     "metadata": {},
     "output_type": "execute_result"
    }
   ],
   "source": [
    "df.drop(df.columns[[0,2,10,11,12]],axis=1,inplace=True)\n",
    "df"
   ]
  },
  {
   "cell_type": "code",
   "execution_count": 15,
   "id": "762ce0ab",
   "metadata": {},
   "outputs": [],
   "source": [
    "X = df.drop([\"播放\"],axis = 1)\n",
    "y = df[\"播放\"]\n",
    "X_train,X_test,y_train,y_test=train_test_split(X,y,random_state=9)"
   ]
  },
  {
   "cell_type": "code",
   "execution_count": 16,
   "id": "1e57781c",
   "metadata": {},
   "outputs": [
    {
     "data": {
      "text/plain": [
       "((1210, 9), (404, 9))"
      ]
     },
     "execution_count": 16,
     "metadata": {},
     "output_type": "execute_result"
    }
   ],
   "source": [
    "X_train.shape, X_test.shape"
   ]
  },
  {
   "cell_type": "code",
   "execution_count": 17,
   "id": "b0e130e1",
   "metadata": {},
   "outputs": [],
   "source": [
    "from sklearn.ensemble import AdaBoostRegressor\n",
    "from sklearn.model_selection import GridSearchCV"
   ]
  },
  {
   "cell_type": "code",
   "execution_count": 18,
   "id": "c7f397d3",
   "metadata": {},
   "outputs": [
    {
     "data": {
      "text/plain": [
       "GridSearchCV(cv=10, estimator=GradientBoostingRegressor(),\n",
       "             param_grid={'max_depth': [3, 5, 7, 9],\n",
       "                         'n_estimators': [10, 50, 100, 200, 500, 1000]})"
      ]
     },
     "execution_count": 18,
     "metadata": {},
     "output_type": "execute_result"
    }
   ],
   "source": [
    "ada = AdaBoostRegressor()\n",
    "\n",
    "param_grid = {\n",
    "    'n_estimators':[10,50,100,200,500,1000],\n",
    "    'max_depth':[3,5,7,9],\n",
    "}\n",
    "\n",
    "grid = GridSearchCV(ada, param_grid=param_grid, cv=10)\n",
    "\n",
    "grid.fit(X_train, y_train)"
   ]
  },
  {
   "cell_type": "code",
   "execution_count": 19,
   "id": "874a6ada",
   "metadata": {},
   "outputs": [
    {
     "data": {
      "text/plain": [
       "{'max_depth': 3, 'n_estimators': 200}"
      ]
     },
     "execution_count": 19,
     "metadata": {},
     "output_type": "execute_result"
    }
   ],
   "source": [
    "# 查看最佳分数和最佳参数\n",
    "grid.best_score_"
   ]
  },
  {
   "cell_type": "code",
   "execution_count": null,
   "id": "163dbd82",
   "metadata": {},
   "outputs": [],
   "source": [
    "grid.best_params_"
   ]
  },
  {
   "cell_type": "code",
   "execution_count": 20,
   "id": "19df7694",
   "metadata": {},
   "outputs": [
    {
     "data": {
      "text/plain": [
       "GradientBoostingRegressor(n_estimators=200)"
      ]
     },
     "execution_count": 20,
     "metadata": {},
     "output_type": "execute_result"
    }
   ],
   "source": [
    "# 获取最佳模型\n",
    "grid.best_estimator_"
   ]
  },
  {
   "cell_type": "code",
   "execution_count": 21,
   "id": "b79544e7",
   "metadata": {},
   "outputs": [],
   "source": [
    "# 利用最佳模型来进行预测\n",
    "ada=grid.best_estimator_\n",
    "pred = ada.predict(X_test)"
   ]
  },
  {
   "cell_type": "code",
   "execution_count": 22,
   "id": "ba02d546",
   "metadata": {},
   "outputs": [
    {
     "data": {
      "text/html": [
       "<div>\n",
       "<style scoped>\n",
       "    .dataframe tbody tr th:only-of-type {\n",
       "        vertical-align: middle;\n",
       "    }\n",
       "\n",
       "    .dataframe tbody tr th {\n",
       "        vertical-align: top;\n",
       "    }\n",
       "\n",
       "    .dataframe thead th {\n",
       "        text-align: right;\n",
       "    }\n",
       "</style>\n",
       "<table border=\"1\" class=\"dataframe\">\n",
       "  <thead>\n",
       "    <tr style=\"text-align: right;\">\n",
       "      <th></th>\n",
       "      <th>labels</th>\n",
       "      <th>prediction</th>\n",
       "    </tr>\n",
       "  </thead>\n",
       "  <tbody>\n",
       "    <tr>\n",
       "      <th>781</th>\n",
       "      <td>49735</td>\n",
       "      <td>9.065584e+04</td>\n",
       "    </tr>\n",
       "    <tr>\n",
       "      <th>351</th>\n",
       "      <td>775149</td>\n",
       "      <td>1.506309e+06</td>\n",
       "    </tr>\n",
       "    <tr>\n",
       "      <th>360</th>\n",
       "      <td>2724019</td>\n",
       "      <td>3.075130e+06</td>\n",
       "    </tr>\n",
       "    <tr>\n",
       "      <th>855</th>\n",
       "      <td>125966</td>\n",
       "      <td>1.296399e+05</td>\n",
       "    </tr>\n",
       "    <tr>\n",
       "      <th>1437</th>\n",
       "      <td>151240</td>\n",
       "      <td>4.628561e+04</td>\n",
       "    </tr>\n",
       "  </tbody>\n",
       "</table>\n",
       "</div>"
      ],
      "text/plain": [
       "       labels    prediction\n",
       "781     49735  9.065584e+04\n",
       "351    775149  1.506309e+06\n",
       "360   2724019  3.075130e+06\n",
       "855    125966  1.296399e+05\n",
       "1437   151240  4.628561e+04"
      ]
     },
     "execution_count": 22,
     "metadata": {},
     "output_type": "execute_result"
    }
   ],
   "source": [
    "result = {\"labels\":y_test,\"prediction\":pred}\n",
    "result = pd.DataFrame(result)\n",
    "result.head()"
   ]
  },
  {
   "cell_type": "code",
   "execution_count": 23,
   "id": "5654b060",
   "metadata": {},
   "outputs": [
    {
     "data": {
      "image/png": "[encoded data removed]",
      "text/plain": [
       "<Figure size 1080x360 with 1 Axes>"
      ]
     },
     "metadata": {
      "needs_background": "light"
     },
     "output_type": "display_data"
    }
   ],
   "source": [
    "result['labels'].plot(style='k.',figsize=(15,5))\n",
    "result['prediction'].plot(style='r.')\n",
    "#设置图例文字大小和图示大小\n",
    "plt.legend(fontsize=15,markerscale=3)\n",
    "#设置坐标文字大小\n",
    "plt.tick_params(labelsize=25)\n",
    "#生成刻度线网格\n",
    "plt.grid()"
   ]
  },
  {
   "cell_type": "code",
   "execution_count": 24,
   "id": "758dab73",
   "metadata": {},
   "outputs": [
    {
     "name": "stdout",
     "output_type": "stream",
     "text": [
      "(MSE,RMSE)= (459519866852.85986, 677878.9470494417)\n"
     ]
    }
   ],
   "source": [
    "from sklearn import metrics\n",
    "MSE = metrics.mean_squared_error(y_test,pred)\n",
    "RMSE = np.sqrt(MSE)\n",
    "print('(MSE,RMSE)=',(MSE,RMSE))"
   ]
  },
  {
   "cell_type": "code",
   "execution_count": 25,
   "id": "a7af6bb1",
   "metadata": {},
   "outputs": [
    {
     "name": "stdout",
     "output_type": "stream",
     "text": [
      "模型评分: 0.73\n"
     ]
    }
   ],
   "source": [
    "print(\"模型评分: {:.2f}\".format(ada.score(X_test, y_test)))"
   ]
  }
 ],
 "metadata": {
  "hide_input": false,
  "kernelspec": {
   "display_name": "Python 3",
   "language": "python",
   "name": "python3"
  },
  "language_info": {
   "codemirror_mode": {
    "name": "ipython",
    "version": 3
   },
   "file_extension": ".py",
   "mimetype": "text/x-python",
   "name": "python",
   "nbconvert_exporter": "python",
   "pygments_lexer": "ipython3",
   "version": "3.8.8"
  },
  "toc": {
   "base_numbering": 1,
   "nav_menu": {},
   "number_sections": false,
   "sideBar": true,
   "skip_h1_title": false,
   "title_cell": "Table of Contents",
   "title_sidebar": "Contents",
   "toc_cell": false,
   "toc_position": {},
   "toc_section_display": true,
   "toc_window_display": false
  },
  "varInspector": {
   "cols": {
    "lenName": 16,
    "lenType": 16,
    "lenVar": 40
   },
   "kernels_config": {
    "python": {
     "delete_cmd_postfix": "",
     "delete_cmd_prefix": "del ",
     "library": "var_list.py",
     "varRefreshCmd": "print(var_dic_list())"
    },
    "r": {
     "delete_cmd_postfix": ") ",
     "delete_cmd_prefix": "rm(",
     "library": "var_list.r",
     "varRefreshCmd": "cat(var_dic_list()) "
    }
   },
   "types_to_exclude": [
    "module",
    "function",
    "builtin_function_or_method",
    "instance",
    "_Feature"
   ],
   "window_display": false
  }
 },
 "nbformat": 4,
 "nbformat_minor": 5
}
